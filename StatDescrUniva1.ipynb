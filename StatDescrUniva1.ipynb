{
 "cells": [
  {
   "cell_type": "markdown",
   "id": "bf3c79f9-8092-4423-8b00-b3c4bc12b57d",
   "metadata": {},
   "source": [
    "<h2 align=center>Statistique Descriptive Univariée</h2>"
   ]
  },
  {
   "cell_type": "markdown",
   "id": "1c6535b7-c523-4a8f-8edf-730694b418f0",
   "metadata": {},
   "source": [
    "### 1. Paramètres de position\n",
    "\n",
    "C'est une valeur d’une distribution d’un caractère statistique quantitatif choisie pour sa représentativité d’une tendance de cette distribution, soit son centre, sa fréquence dominante ou sa position médiane dans l’ensemble des valeurs."
   ]
  },
  {
   "cell_type": "markdown",
   "id": "c5b203f0-a6ed-4bfc-b6c1-cfa73b223eaf",
   "metadata": {},
   "source": [
    "### 1.1 Le tableau statistique"
   ]
  },
  {
   "cell_type": "markdown",
   "id": "d6f3bf1b-a5bc-45f4-b685-b4f50ac35d8b",
   "metadata": {},
   "source": [
    "Une variable quantitative continue peut prendre une infinité de valeurs possibles.\n",
    "Le domaine de la variable est alors $\\mathbb{R}$ ou un intervalle de $\\mathbb{R}$. En pratique,\n",
    "une mesure est limitée en précision. La taille peut être mesurée en centimètres,\n",
    "voire en millimètres. On peut alors traiter les variables continues comme des\n",
    "variables discrètes. Cependant, pour faire des représentations graphiques et construire le tableau statistique, il faut procéder à des regroupements en classes.\n",
    "Le tableau regroupé en classe est souvent appelé distribution groupée. Si $[c_j^- ; c_j^+ [$\n",
    "designe la classe $j$, on note, de manière générale :"
   ]
  },
  {
   "cell_type": "markdown",
   "id": "0367b7f1-4c84-4f92-bb20-720480272937",
   "metadata": {},
   "source": [
    "$- \\,c_j^-$ la borne inférieure de la classe $j$,\n",
    "\n",
    "– $c_j^+$ la borne supérieure de la classe j,\n",
    "\n",
    "– $c_j^- = (c_j^+ + c_j^- )/2$ le centre de la classe $j$,\n",
    "\n",
    "– $a_j = c_j^+− c_j^-$ l’amplitude de la classe $j$,\n",
    "\n",
    "– $n_j$ l’effectif de la classe $j$,\n",
    "\n",
    "– $N_j$ l’effectif cumulé de la classe $j$,\n",
    "\n",
    "– $f_j$ la fréquence de la classe $j$,\n",
    "\n",
    "– $F_j$ la fréquence cumulée de la classe $j$.\n",
    "\n",
    "La répartition en classes des données nécessite de définir a priori le nombre\n",
    "de classes $J$ et donc l’amplitude de chaque classe."
   ]
  },
  {
   "cell_type": "code",
   "execution_count": 132,
   "id": "fd850fc9-340d-4f19-923b-a80cecd2ea80",
   "metadata": {},
   "outputs": [
    {
     "data": {
      "text/html": [
       "<table>\n",
       "<thead><tr><th></th><th scope=col>Eff</th><th scope=col>EffCum</th><th scope=col>Freq</th><th scope=col>FreqCum</th></tr></thead>\n",
       "<tbody>\n",
       "\t<tr><th scope=row>(-0.004,0.8]</th><td>2    </td><td>2    </td><td>0.250</td><td>0.250</td></tr>\n",
       "\t<tr><th scope=row>(0.8,1.6]</th><td>2    </td><td>4    </td><td>0.250</td><td>0.500</td></tr>\n",
       "\t<tr><th scope=row>(1.6,2.4]</th><td>2    </td><td>6    </td><td>0.250</td><td>0.750</td></tr>\n",
       "\t<tr><th scope=row>(2.4,3.2]</th><td>1    </td><td>7    </td><td>0.125</td><td>0.875</td></tr>\n",
       "\t<tr><th scope=row>(3.2,4]</th><td>1    </td><td>8    </td><td>0.125</td><td>1.000</td></tr>\n",
       "</tbody>\n",
       "</table>\n"
      ],
      "text/latex": [
       "\\begin{tabular}{r|llll}\n",
       "  & Eff & EffCum & Freq & FreqCum\\\\\n",
       "\\hline\n",
       "\t(-0.004,0.8{]} & 2     & 2     & 0.250 & 0.250\\\\\n",
       "\t(0.8,1.6{]} & 2     & 4     & 0.250 & 0.500\\\\\n",
       "\t(1.6,2.4{]} & 2     & 6     & 0.250 & 0.750\\\\\n",
       "\t(2.4,3.2{]} & 1     & 7     & 0.125 & 0.875\\\\\n",
       "\t(3.2,4{]} & 1     & 8     & 0.125 & 1.000\\\\\n",
       "\\end{tabular}\n"
      ],
      "text/markdown": [
       "\n",
       "| <!--/--> | Eff | EffCum | Freq | FreqCum |\n",
       "|---|---|---|---|---|\n",
       "| (-0.004,0.8] | 2     | 2     | 0.250 | 0.250 |\n",
       "| (0.8,1.6] | 2     | 4     | 0.250 | 0.500 |\n",
       "| (1.6,2.4] | 2     | 6     | 0.250 | 0.750 |\n",
       "| (2.4,3.2] | 1     | 7     | 0.125 | 0.875 |\n",
       "| (3.2,4] | 1     | 8     | 0.125 | 1.000 |\n",
       "\n"
      ],
      "text/plain": [
       "             Eff EffCum Freq  FreqCum\n",
       "(-0.004,0.8] 2   2      0.250 0.250  \n",
       "(0.8,1.6]    2   4      0.250 0.500  \n",
       "(1.6,2.4]    2   6      0.250 0.750  \n",
       "(2.4,3.2]    1   7      0.125 0.875  \n",
       "(3.2,4]      1   8      0.125 1.000  "
      ]
     },
     "metadata": {},
     "output_type": "display_data"
    }
   ],
   "source": [
    "X=c(0 , 0 , 1 , 1 , 2 , 2 , 3, 4)\n",
    "c5cl <- cut(X, 5)\n",
    "T5=table(c5cl)\n",
    "T5c=c(T5)\n",
    "data.frame(Eff=T5c,EffCum=cumsum(T5c),Freq=T5c/sum(T5c),FreqCum=cumsum(T5c/sum(T5c)))"
   ]
  },
  {
   "cell_type": "markdown",
   "id": "ccc08474-2dbc-4567-85e0-55a1b2354e88",
   "metadata": {},
   "source": [
    "### 1.2 La moyenne"
   ]
  },
  {
   "cell_type": "markdown",
   "id": "95e47d9a-6357-4a40-8536-6f051430d59b",
   "metadata": {},
   "source": [
    "La moyenne est la somme des valeurs observées divisée par leur nombre, elle\n",
    "est notée $\\bar{x}$ :\n",
    "$$\\bar{x}=\\dfrac{1}{n}\\displaystyle\\sum\\limits_{i=1}^n x_i$$\n",
    "La moyenne $\\bar{x}$ minimise la RMSE (Root Mean Squared Error):\n",
    "$$RMSE(x) = \\sqrt{\\frac{1}{n}\\sum_{i=1}^{n}(x - x_{i})^{2}}$$"
   ]
  },
  {
   "cell_type": "code",
   "execution_count": 138,
   "id": "dbfcf2d7-61d6-46ca-a4c6-3fdc9bef343f",
   "metadata": {},
   "outputs": [
    {
     "data": {
      "image/png": "[encoded data removed]",
      "text/plain": [
       "plot without title"
      ]
     },
     "metadata": {},
     "output_type": "display_data"
    }
   ],
   "source": [
    "norm_vec2 <- function(x){sqrt(crossprod(X-x)/length(X))}\n",
    "moy=mean(X)\n",
    "x <- seq(-1,4.2,0.1)\n",
    "RMSE <- NULL\n",
    "for(i in seq_len(length(x))) {\n",
    "RMSE[i] <- norm_vec2(x[i])\n",
    "}\n",
    "plot(x, RMSE,type=\"l\")\n",
    "arrows(moy,1.,moy,norm_vec2(moy),length=0.14,col=\"blue\")\n",
    "arrows(moy,norm_vec2(moy),-1.,norm_vec2(moy),length=0.14,col=\"blue\")"
   ]
  },
  {
   "cell_type": "markdown",
   "id": "023dee33-922e-48b7-92c4-b1b12a318019",
   "metadata": {},
   "source": [
    "### 1.3 La médiane"
   ]
  },
  {
   "cell_type": "markdown",
   "id": "76505e0d-2b8f-4ca6-9f28-f776ecc59a98",
   "metadata": {},
   "source": [
    "La médiane $x_{1/2}$ est la valeur qui se trouve au milieu de la série des observations ordonnée :"
   ]
  },
  {
   "cell_type": "code",
   "execution_count": 128,
   "id": "2fbc9c25-4e1c-4983-911d-330536cb755e",
   "metadata": {},
   "outputs": [
    {
     "name": "stdout",
     "output_type": "stream",
     "text": [
      "Médiane :  1.5"
     ]
    },
    {
     "data": {
      "image/png": "[encoded data removed]",
      "text/plain": [
       "Plot with title \"\""
      ]
     },
     "metadata": {},
     "output_type": "display_data"
    }
   ],
   "source": [
    "m=median(X)\n",
    "cat(\"Médiane : \",m)\n",
    "hist(X,xlab=\"\",ylab=\"\",main=\"\")\n",
    "arrows(m,0.50,m,0,length=0.14,col=\"blue\")"
   ]
  },
  {
   "cell_type": "markdown",
   "id": "45d6555c-ebbc-453c-933a-37aa6bd2cd9c",
   "metadata": {},
   "source": [
    "La médiane peut être d´efinie comme l’inverse de la fonction de répartition pour la valeur 1/2 :\n",
    "$$x_{1/2} = F^{−1}(0.5).$$"
   ]
  },
  {
   "cell_type": "code",
   "execution_count": 106,
   "id": "5f8786e5-5f22-44cf-a4bd-f01aa2afc6cd",
   "metadata": {},
   "outputs": [
    {
     "data": {
      "image/png": "[encoded data removed]",
      "text/plain": [
       "Plot with title \"\""
      ]
     },
     "metadata": {},
     "output_type": "display_data"
    }
   ],
   "source": [
    "plot(ecdf(X),xlab=\"\",ylab=\"\",main=\"\",frame=FALSE,yaxt = \"n\")\n",
    "axis(2, c(0.0,0.25,0.50,0.75,1.00))\n",
    "arrows(-1,0.5,1,0.50,length=0.14,col=\"blue\")\n",
    "arrows(m,0.50,m,0,length=0.14,col=\"blue\")"
   ]
  },
  {
   "cell_type": "markdown",
   "id": "aaa57047-674d-4573-a387-36222cf97f17",
   "metadata": {},
   "source": [
    "### 1.4 Les quantiles"
   ]
  },
  {
   "cell_type": "markdown",
   "id": "9330daa5-ee1e-4a84-a0f2-4227c27c4296",
   "metadata": {},
   "source": [
    "La notion de quantile d’ordre p (où $0 < p < 1$) généralise la médiane. Formellement un quantile est donné par l’inverse de la fonction de répartition :\n",
    "$$x_{p} = F^{−1}(p).$$"
   ]
  },
  {
   "cell_type": "markdown",
   "id": "f13e7ca4-8c8b-48fc-ba0a-8e6368933b48",
   "metadata": {},
   "source": [
    "### Remarque\n",
    "– La médiane est le quantile d’ordre p = 1/2.\n",
    "\n",
    "– On utilise souvent\n",
    "\n",
    "$x_{1/4}$ le premier quartile,\n",
    "\n",
    "$x_{3/4}$ le troisième quartile,\n",
    "\n",
    "$x_{1/10}$ le premier décile ,\n",
    "\n",
    "$x_{1/5}$ le premier quintile,\n",
    "\n",
    "$x_{4/5}$ le quatrième quintile,\n",
    "\n",
    "$x_{9/10}$ le neuvième décile,\n",
    "\n",
    "$x_{0.05}$ le cinquième percentile ,\n",
    "\n",
    "$x_{0.95}$x le quatre vinght quinzième percentile.\n",
    "\n",
    "– Si $F(x)$ est la fonction de répartition, alors $F(x_p) ≥ p$."
   ]
  },
  {
   "cell_type": "code",
   "execution_count": 151,
   "id": "eb822240-d016-4644-a5d5-335c0179c7c6",
   "metadata": {},
   "outputs": [
    {
     "data": {
      "text/html": [
       "<dl class=dl-horizontal>\n",
       "\t<dt>0%</dt>\n",
       "\t\t<dd>0</dd>\n",
       "\t<dt>25%</dt>\n",
       "\t\t<dd>0.5</dd>\n",
       "\t<dt>50%</dt>\n",
       "\t\t<dd>1.5</dd>\n",
       "\t<dt>75%</dt>\n",
       "\t\t<dd>2.5</dd>\n",
       "\t<dt>100%</dt>\n",
       "\t\t<dd>4</dd>\n",
       "</dl>\n"
      ],
      "text/latex": [
       "\\begin{description*}\n",
       "\\item[0\\textbackslash{}\\%] 0\n",
       "\\item[25\\textbackslash{}\\%] 0.5\n",
       "\\item[50\\textbackslash{}\\%] 1.5\n",
       "\\item[75\\textbackslash{}\\%] 2.5\n",
       "\\item[100\\textbackslash{}\\%] 4\n",
       "\\end{description*}\n"
      ],
      "text/markdown": [
       "0%\n",
       ":   025%\n",
       ":   0.550%\n",
       ":   1.575%\n",
       ":   2.5100%\n",
       ":   4\n",
       "\n"
      ],
      "text/plain": [
       "  0%  25%  50%  75% 100% \n",
       " 0.0  0.5  1.5  2.5  4.0 "
      ]
     },
     "metadata": {},
     "output_type": "display_data"
    }
   ],
   "source": [
    "quantile(X,type=2)\n",
    "q=quantile(X,type=2)"
   ]
  },
  {
   "cell_type": "code",
   "execution_count": 152,
   "id": "03b74b8c-11da-4a8c-a10b-fcc6fbe7a85d",
   "metadata": {},
   "outputs": [
    {
     "data": {
      "image/png": "[encoded data removed]",
      "text/plain": [
       "Plot with title \"\""
      ]
     },
     "metadata": {},
     "output_type": "display_data"
    }
   ],
   "source": [
    "plot(ecdf(X),xlab=\"\",ylab=\"\",main=\"\",frame=FALSE,yaxt = \"n\")\n",
    "axis(2, c(0.0,0.25,0.50,0.75,1.00))\n",
    "arrows(-1,0.5,1,0.50,length=0.14,col=\"blue\")\n",
    "arrows(q[2],0.25,q[2],0,length=0.14,col=\"blue\")\n",
    "arrows(q[3],0.50,q[3],0,length=0.14,col=\"blue\")\n",
    "arrows(q[4],0.75,q[4],0,length=0.14,col=\"blue\")\n",
    "arrows(q[5],1.,q[5],0,length=0.14,col=\"blue\")"
   ]
  },
  {
   "cell_type": "markdown",
   "id": "6202d20c-9527-4666-bf22-522f37fbe525",
   "metadata": {},
   "source": [
    "### 2. Paramètres de dispersion\n",
    "\n",
    "C'est un nombre qui reflète l’étendue des valeurs d’un caractère statistique quantitatif autour d’un paramètre de position donné, généralement la moyenne."
   ]
  },
  {
   "cell_type": "markdown",
   "id": "5bfded85-90d6-48ed-b7f0-de7a7ad47616",
   "metadata": {},
   "source": [
    "### 2.1 L’étendue"
   ]
  },
  {
   "cell_type": "markdown",
   "id": "4a93fa65-5bdf-4a94-8b53-350608f6e230",
   "metadata": {},
   "source": [
    "L’étendue est simplement la différence entre la plus grande et la plus petite valeur observée."
   ]
  },
  {
   "cell_type": "markdown",
   "id": "2ebbdbc1-9070-4d2e-9151-d18cb3a4d1cd",
   "metadata": {},
   "source": [
    "$$E=\\max_{i \\in \\{1,..,n\\}}x_i-\\min_{x \\in \\{1,..,n\\}}x_i.$$"
   ]
  },
  {
   "cell_type": "markdown",
   "id": "25ce801a-6f03-48ac-99ad-da75dc36d215",
   "metadata": {},
   "source": [
    "### 2.2 La distance interquartile\n",
    "La distance interquartile est la diff´erence entre le troisième et le premier quartile :\n",
    "\n",
    "$$IQ = x_{3/4}− x_{1/4}.$$"
   ]
  },
  {
   "cell_type": "markdown",
   "id": "0d64563c-6771-42e7-a432-9641e6693045",
   "metadata": {},
   "source": [
    "### 2.3 La variance\n",
    "La variance est la somme des carrés des écarts à la moyenne divisée par le nombre d’observations :\n",
    "$$s_x^2=\\frac{1}{n}\\sum_{i=1}^{n}(x - x_{i})^{2}.$$"
   ]
  },
  {
   "cell_type": "markdown",
   "id": "a066393b-49f8-47e2-b669-862734543316",
   "metadata": {},
   "source": [
    "### 2.4 L’écart-type\n",
    "L’écart-type est la racine carrée de la variance :\n",
    "$$s_x=\\sqrt{s_x^2}.$$"
   ]
  },
  {
   "cell_type": "markdown",
   "id": "ef73b2fd-60bd-49ff-8f5c-4683d4261de5",
   "metadata": {},
   "source": [
    "Quand on veut estimer l’écart-type d’une variable X partir d’un échantillon de taille n, on utilise la variance “corrigée” pour définir l’écart type\n",
    "$$S_x=\\sqrt{S_x^2}=s_x\\sqrt{\\frac{n}{n-1}}.$$"
   ]
  },
  {
   "cell_type": "markdown",
   "id": "1b5d32e2-cbd1-4c26-a13c-7d637b59f969",
   "metadata": {},
   "source": [
    "La plupart des logiciels statistiques calculent $S_x$ et non $s_x$."
   ]
  },
  {
   "cell_type": "markdown",
   "id": "4af79d58-3ba6-4cca-ac02-88f08f224dee",
   "metadata": {},
   "source": [
    "### Téléchargement des données\n",
    "Pour télécharger les données, nous utiliserons l'adesse Web: https://s3-api.us-geo.objectstorage.softlayer.net/cf-courses-data/CognitiveClass/ML0101ENv3/labs/FuelConsumptionCo2.csv\n",
    "ensuite nous metterons le fichier téléchargé dans jupyter localhost."
   ]
  },
  {
   "cell_type": "code",
   "execution_count": 162,
   "id": "76cd1928-ee31-47c9-8552-84b9eece9f6e",
   "metadata": {},
   "outputs": [],
   "source": [
    "smp <- read.csv(\"FuelConsumptionCo2.csv\")"
   ]
  },
  {
   "cell_type": "code",
   "execution_count": 164,
   "id": "1f01364c-bf0c-486a-87b5-8fb18f8286e8",
   "metadata": {},
   "outputs": [
    {
     "data": {
      "text/html": [
       "<table>\n",
       "<thead><tr><th scope=col>MODELYEAR</th><th scope=col>MAKE</th><th scope=col>MODEL</th><th scope=col>VEHICLECLASS</th><th scope=col>ENGINESIZE</th><th scope=col>CYLINDERS</th><th scope=col>TRANSMISSION</th><th scope=col>FUELTYPE</th><th scope=col>FUELCONSUMPTION_CITY</th><th scope=col>FUELCONSUMPTION_HWY</th><th scope=col>FUELCONSUMPTION_COMB</th><th scope=col>FUELCONSUMPTION_COMB_MPG</th><th scope=col>CO2EMISSIONS</th></tr></thead>\n",
       "<tbody>\n",
       "\t<tr><td>2014       </td><td>ACURA      </td><td>ILX        </td><td>COMPACT    </td><td>2.0        </td><td>4          </td><td>AS5        </td><td>Z          </td><td> 9.9       </td><td>6.7        </td><td> 8.5       </td><td>33         </td><td>196        </td></tr>\n",
       "\t<tr><td>2014       </td><td>ACURA      </td><td>ILX        </td><td>COMPACT    </td><td>2.4        </td><td>4          </td><td>M6         </td><td>Z          </td><td>11.2       </td><td>7.7        </td><td> 9.6       </td><td>29         </td><td>221        </td></tr>\n",
       "\t<tr><td>2014       </td><td>ACURA      </td><td>ILX HYBRID </td><td>COMPACT    </td><td>1.5        </td><td>4          </td><td>AV7        </td><td>Z          </td><td> 6.0       </td><td>5.8        </td><td> 5.9       </td><td>48         </td><td>136        </td></tr>\n",
       "\t<tr><td>2014       </td><td>ACURA      </td><td>MDX 4WD    </td><td>SUV - SMALL</td><td>3.5        </td><td>6          </td><td>AS6        </td><td>Z          </td><td>12.7       </td><td>9.1        </td><td>11.1       </td><td>25         </td><td>255        </td></tr>\n",
       "\t<tr><td>2014       </td><td>ACURA      </td><td>RDX AWD    </td><td>SUV - SMALL</td><td>3.5        </td><td>6          </td><td>AS6        </td><td>Z          </td><td>12.1       </td><td>8.7        </td><td>10.6       </td><td>27         </td><td>244        </td></tr>\n",
       "\t<tr><td>2014       </td><td>ACURA      </td><td>RLX        </td><td>MID-SIZE   </td><td>3.5        </td><td>6          </td><td>AS6        </td><td>Z          </td><td>11.9       </td><td>7.7        </td><td>10.0       </td><td>28         </td><td>230        </td></tr>\n",
       "</tbody>\n",
       "</table>\n"
      ],
      "text/latex": [
       "\\begin{tabular}{r|lllllllllllll}\n",
       " MODELYEAR & MAKE & MODEL & VEHICLECLASS & ENGINESIZE & CYLINDERS & TRANSMISSION & FUELTYPE & FUELCONSUMPTION\\_CITY & FUELCONSUMPTION\\_HWY & FUELCONSUMPTION\\_COMB & FUELCONSUMPTION\\_COMB\\_MPG & CO2EMISSIONS\\\\\n",
       "\\hline\n",
       "\t 2014        & ACURA       & ILX         & COMPACT     & 2.0         & 4           & AS5         & Z           &  9.9        & 6.7         &  8.5        & 33          & 196        \\\\\n",
       "\t 2014        & ACURA       & ILX         & COMPACT     & 2.4         & 4           & M6          & Z           & 11.2        & 7.7         &  9.6        & 29          & 221        \\\\\n",
       "\t 2014        & ACURA       & ILX HYBRID  & COMPACT     & 1.5         & 4           & AV7         & Z           &  6.0        & 5.8         &  5.9        & 48          & 136        \\\\\n",
       "\t 2014        & ACURA       & MDX 4WD     & SUV - SMALL & 3.5         & 6           & AS6         & Z           & 12.7        & 9.1         & 11.1        & 25          & 255        \\\\\n",
       "\t 2014        & ACURA       & RDX AWD     & SUV - SMALL & 3.5         & 6           & AS6         & Z           & 12.1        & 8.7         & 10.6        & 27          & 244        \\\\\n",
       "\t 2014        & ACURA       & RLX         & MID-SIZE    & 3.5         & 6           & AS6         & Z           & 11.9        & 7.7         & 10.0        & 28          & 230        \\\\\n",
       "\\end{tabular}\n"
      ],
      "text/markdown": [
       "\n",
       "| MODELYEAR | MAKE | MODEL | VEHICLECLASS | ENGINESIZE | CYLINDERS | TRANSMISSION | FUELTYPE | FUELCONSUMPTION_CITY | FUELCONSUMPTION_HWY | FUELCONSUMPTION_COMB | FUELCONSUMPTION_COMB_MPG | CO2EMISSIONS |\n",
       "|---|---|---|---|---|---|---|---|---|---|---|---|---|\n",
       "| 2014        | ACURA       | ILX         | COMPACT     | 2.0         | 4           | AS5         | Z           |  9.9        | 6.7         |  8.5        | 33          | 196         |\n",
       "| 2014        | ACURA       | ILX         | COMPACT     | 2.4         | 4           | M6          | Z           | 11.2        | 7.7         |  9.6        | 29          | 221         |\n",
       "| 2014        | ACURA       | ILX HYBRID  | COMPACT     | 1.5         | 4           | AV7         | Z           |  6.0        | 5.8         |  5.9        | 48          | 136         |\n",
       "| 2014        | ACURA       | MDX 4WD     | SUV - SMALL | 3.5         | 6           | AS6         | Z           | 12.7        | 9.1         | 11.1        | 25          | 255         |\n",
       "| 2014        | ACURA       | RDX AWD     | SUV - SMALL | 3.5         | 6           | AS6         | Z           | 12.1        | 8.7         | 10.6        | 27          | 244         |\n",
       "| 2014        | ACURA       | RLX         | MID-SIZE    | 3.5         | 6           | AS6         | Z           | 11.9        | 7.7         | 10.0        | 28          | 230         |\n",
       "\n"
      ],
      "text/plain": [
       "  MODELYEAR MAKE  MODEL      VEHICLECLASS ENGINESIZE CYLINDERS TRANSMISSION\n",
       "1 2014      ACURA ILX        COMPACT      2.0        4         AS5         \n",
       "2 2014      ACURA ILX        COMPACT      2.4        4         M6          \n",
       "3 2014      ACURA ILX HYBRID COMPACT      1.5        4         AV7         \n",
       "4 2014      ACURA MDX 4WD    SUV - SMALL  3.5        6         AS6         \n",
       "5 2014      ACURA RDX AWD    SUV - SMALL  3.5        6         AS6         \n",
       "6 2014      ACURA RLX        MID-SIZE     3.5        6         AS6         \n",
       "  FUELTYPE FUELCONSUMPTION_CITY FUELCONSUMPTION_HWY FUELCONSUMPTION_COMB\n",
       "1 Z         9.9                 6.7                  8.5                \n",
       "2 Z        11.2                 7.7                  9.6                \n",
       "3 Z         6.0                 5.8                  5.9                \n",
       "4 Z        12.7                 9.1                 11.1                \n",
       "5 Z        12.1                 8.7                 10.6                \n",
       "6 Z        11.9                 7.7                 10.0                \n",
       "  FUELCONSUMPTION_COMB_MPG CO2EMISSIONS\n",
       "1 33                       196         \n",
       "2 29                       221         \n",
       "3 48                       136         \n",
       "4 25                       255         \n",
       "5 27                       244         \n",
       "6 28                       230         "
      ]
     },
     "metadata": {},
     "output_type": "display_data"
    }
   ],
   "source": [
    "head(smp)"
   ]
  },
  {
   "cell_type": "code",
   "execution_count": 188,
   "id": "5c164667-15b6-49db-b795-5a7c5eb0ff1d",
   "metadata": {},
   "outputs": [
    {
     "data": {
      "text/html": [
       "<table>\n",
       "<thead><tr><th></th><th scope=col>Eff</th><th scope=col>EffCum</th><th scope=col>Freq</th><th scope=col>FreqCum</th></tr></thead>\n",
       "<tbody>\n",
       "\t<tr><th scope=row>(0.993,1.74]</th><td>115        </td><td> 115       </td><td>0.107778819</td><td>0.1077788  </td></tr>\n",
       "\t<tr><th scope=row>(1.74,2.48]</th><td>258        </td><td> 373       </td><td>0.241799438</td><td>0.3495783  </td></tr>\n",
       "\t<tr><th scope=row>(2.48,3.22]</th><td>151        </td><td> 524       </td><td>0.141518276</td><td>0.4910965  </td></tr>\n",
       "\t<tr><th scope=row>(3.22,3.96]</th><td>243        </td><td> 767       </td><td>0.227741331</td><td>0.7188379  </td></tr>\n",
       "\t<tr><th scope=row>(3.96,4.7]</th><td> 85        </td><td> 852       </td><td>0.079662605</td><td>0.7985005  </td></tr>\n",
       "\t<tr><th scope=row>(4.7,5.44]</th><td>111        </td><td> 963       </td><td>0.104029991</td><td>0.9025305  </td></tr>\n",
       "\t<tr><th scope=row>(5.44,6.18]</th><td> 54        </td><td>1017       </td><td>0.050609185</td><td>0.9531396  </td></tr>\n",
       "\t<tr><th scope=row>(6.18,6.92]</th><td> 48        </td><td>1065       </td><td>0.044985942</td><td>0.9981256  </td></tr>\n",
       "\t<tr><th scope=row>(6.92,7.66]</th><td>  0        </td><td>1065       </td><td>0.000000000</td><td>0.9981256  </td></tr>\n",
       "\t<tr><th scope=row>(7.66,8.41]</th><td>  2        </td><td>1067       </td><td>0.001874414</td><td>1.0000000  </td></tr>\n",
       "</tbody>\n",
       "</table>\n"
      ],
      "text/latex": [
       "\\begin{tabular}{r|llll}\n",
       "  & Eff & EffCum & Freq & FreqCum\\\\\n",
       "\\hline\n",
       "\t(0.993,1.74{]} & 115         &  115        & 0.107778819 & 0.1077788  \\\\\n",
       "\t(1.74,2.48{]} & 258         &  373        & 0.241799438 & 0.3495783  \\\\\n",
       "\t(2.48,3.22{]} & 151         &  524        & 0.141518276 & 0.4910965  \\\\\n",
       "\t(3.22,3.96{]} & 243         &  767        & 0.227741331 & 0.7188379  \\\\\n",
       "\t(3.96,4.7{]} &  85         &  852        & 0.079662605 & 0.7985005  \\\\\n",
       "\t(4.7,5.44{]} & 111         &  963        & 0.104029991 & 0.9025305  \\\\\n",
       "\t(5.44,6.18{]} &  54         & 1017        & 0.050609185 & 0.9531396  \\\\\n",
       "\t(6.18,6.92{]} &  48         & 1065        & 0.044985942 & 0.9981256  \\\\\n",
       "\t(6.92,7.66{]} &   0         & 1065        & 0.000000000 & 0.9981256  \\\\\n",
       "\t(7.66,8.41{]} &   2         & 1067        & 0.001874414 & 1.0000000  \\\\\n",
       "\\end{tabular}\n"
      ],
      "text/markdown": [
       "\n",
       "| <!--/--> | Eff | EffCum | Freq | FreqCum |\n",
       "|---|---|---|---|---|\n",
       "| (0.993,1.74] | 115         |  115        | 0.107778819 | 0.1077788   |\n",
       "| (1.74,2.48] | 258         |  373        | 0.241799438 | 0.3495783   |\n",
       "| (2.48,3.22] | 151         |  524        | 0.141518276 | 0.4910965   |\n",
       "| (3.22,3.96] | 243         |  767        | 0.227741331 | 0.7188379   |\n",
       "| (3.96,4.7] |  85         |  852        | 0.079662605 | 0.7985005   |\n",
       "| (4.7,5.44] | 111         |  963        | 0.104029991 | 0.9025305   |\n",
       "| (5.44,6.18] |  54         | 1017        | 0.050609185 | 0.9531396   |\n",
       "| (6.18,6.92] |  48         | 1065        | 0.044985942 | 0.9981256   |\n",
       "| (6.92,7.66] |   0         | 1065        | 0.000000000 | 0.9981256   |\n",
       "| (7.66,8.41] |   2         | 1067        | 0.001874414 | 1.0000000   |\n",
       "\n"
      ],
      "text/plain": [
       "             Eff EffCum Freq        FreqCum  \n",
       "(0.993,1.74] 115  115   0.107778819 0.1077788\n",
       "(1.74,2.48]  258  373   0.241799438 0.3495783\n",
       "(2.48,3.22]  151  524   0.141518276 0.4910965\n",
       "(3.22,3.96]  243  767   0.227741331 0.7188379\n",
       "(3.96,4.7]    85  852   0.079662605 0.7985005\n",
       "(4.7,5.44]   111  963   0.104029991 0.9025305\n",
       "(5.44,6.18]   54 1017   0.050609185 0.9531396\n",
       "(6.18,6.92]   48 1065   0.044985942 0.9981256\n",
       "(6.92,7.66]    0 1065   0.000000000 0.9981256\n",
       "(7.66,8.41]    2 1067   0.001874414 1.0000000"
      ]
     },
     "metadata": {},
     "output_type": "display_data"
    }
   ],
   "source": [
    "c5cl <- cut(smp$ENGINESIZE, 10)\n",
    "T5=table(c5cl)\n",
    "T5c=c(T5)\n",
    "data.frame(Eff=T5c,EffCum=cumsum(T5c),Freq=T5c/sum(T5c),FreqCum=cumsum(T5c/sum(T5c)))"
   ]
  },
  {
   "cell_type": "code",
   "execution_count": 181,
   "id": "6c4bd87e-4a38-4cf5-84e2-50d46c50d3be",
   "metadata": {},
   "outputs": [
    {
     "data": {
      "image/png": "[encoded data removed]",
      "text/plain": [
       "Plot with title \"Histogramme\""
      ]
     },
     "metadata": {},
     "output_type": "display_data"
    }
   ],
   "source": [
    "X=smp$ENGINESIZE\n",
    "hist(X,xlab=\"Taille du moteur\",ylab=\"Nombre de voitures\",main=\"Histogramme\")\n",
    "moy=mean(X)\n",
    "arrows(moy,50,moy,0,length=0.14,col=\"blue\")\n",
    "std=norm_vec2(moy)\n",
    "arrows(moy-std,50,moy+std,50,length=0.14,col=\"blue\")\n",
    "arrows(moy+std,50,moy-std,50,length=0.14,col=\"blue\")"
   ]
  },
  {
   "cell_type": "code",
   "execution_count": 186,
   "id": "94f47513-4406-46bf-8a27-7d1cee9d2c16",
   "metadata": {},
   "outputs": [
    {
     "data": {
      "text/html": [
       "<table>\n",
       "<thead><tr><th scope=col>CYLINDERS</th><th scope=col>ENGINESIZE</th><th scope=col>CO2EMISSIONS</th><th scope=col>FUELCONSUMPTION_COMB</th></tr></thead>\n",
       "<tbody>\n",
       "\t<tr><td>4   </td><td>2.0 </td><td>196 </td><td> 8.5</td></tr>\n",
       "\t<tr><td>4   </td><td>2.4 </td><td>221 </td><td> 9.6</td></tr>\n",
       "\t<tr><td>4   </td><td>1.5 </td><td>136 </td><td> 5.9</td></tr>\n",
       "\t<tr><td>6   </td><td>3.5 </td><td>255 </td><td>11.1</td></tr>\n",
       "\t<tr><td>6   </td><td>3.5 </td><td>244 </td><td>10.6</td></tr>\n",
       "\t<tr><td>6   </td><td>3.5 </td><td>230 </td><td>10.0</td></tr>\n",
       "</tbody>\n",
       "</table>\n"
      ],
      "text/latex": [
       "\\begin{tabular}{r|llll}\n",
       " CYLINDERS & ENGINESIZE & CO2EMISSIONS & FUELCONSUMPTION\\_COMB\\\\\n",
       "\\hline\n",
       "\t 4    & 2.0  & 196  &  8.5\\\\\n",
       "\t 4    & 2.4  & 221  &  9.6\\\\\n",
       "\t 4    & 1.5  & 136  &  5.9\\\\\n",
       "\t 6    & 3.5  & 255  & 11.1\\\\\n",
       "\t 6    & 3.5  & 244  & 10.6\\\\\n",
       "\t 6    & 3.5  & 230  & 10.0\\\\\n",
       "\\end{tabular}\n"
      ],
      "text/markdown": [
       "\n",
       "| CYLINDERS | ENGINESIZE | CO2EMISSIONS | FUELCONSUMPTION_COMB |\n",
       "|---|---|---|---|\n",
       "| 4    | 2.0  | 196  |  8.5 |\n",
       "| 4    | 2.4  | 221  |  9.6 |\n",
       "| 4    | 1.5  | 136  |  5.9 |\n",
       "| 6    | 3.5  | 255  | 11.1 |\n",
       "| 6    | 3.5  | 244  | 10.6 |\n",
       "| 6    | 3.5  | 230  | 10.0 |\n",
       "\n"
      ],
      "text/plain": [
       "  CYLINDERS ENGINESIZE CO2EMISSIONS FUELCONSUMPTION_COMB\n",
       "1 4         2.0        196           8.5                \n",
       "2 4         2.4        221           9.6                \n",
       "3 4         1.5        136           5.9                \n",
       "4 6         3.5        255          11.1                \n",
       "5 6         3.5        244          10.6                \n",
       "6 6         3.5        230          10.0                "
      ]
     },
     "metadata": {},
     "output_type": "display_data"
    }
   ],
   "source": [
    "head(smp[c(\"CYLINDERS\",\"ENGINESIZE\",\"CO2EMISSIONS\",\"FUELCONSUMPTION_COMB\")])"
   ]
  },
  {
   "cell_type": "code",
   "execution_count": 187,
   "id": "fc72d682-b352-4adc-9b07-fe0491c8c169",
   "metadata": {},
   "outputs": [
    {
     "data": {
      "text/plain": [
       "   CYLINDERS        ENGINESIZE     CO2EMISSIONS   FUELCONSUMPTION_COMB\n",
       " Min.   : 3.000   Min.   :1.000   Min.   :108.0   Min.   : 4.70       \n",
       " 1st Qu.: 4.000   1st Qu.:2.000   1st Qu.:207.0   1st Qu.: 9.00       \n",
       " Median : 6.000   Median :3.400   Median :251.0   Median :10.90       \n",
       " Mean   : 5.795   Mean   :3.346   Mean   :256.2   Mean   :11.58       \n",
       " 3rd Qu.: 8.000   3rd Qu.:4.300   3rd Qu.:294.0   3rd Qu.:13.35       \n",
       " Max.   :12.000   Max.   :8.400   Max.   :488.0   Max.   :25.80       "
      ]
     },
     "metadata": {},
     "output_type": "display_data"
    }
   ],
   "source": [
    "summary(smp[c(\"CYLINDERS\",\"ENGINESIZE\",\"CO2EMISSIONS\",\"FUELCONSUMPTION_COMB\")])"
   ]
  }
 ],
 "metadata": {
  "kernelspec": {
   "display_name": "R",
   "language": "R",
   "name": "ir"
  },
  "language_info": {
   "codemirror_mode": "r",
   "file_extension": ".r",
   "mimetype": "text/x-r-source",
   "name": "R",
   "pygments_lexer": "r",
   "version": "3.6.1"
  }
 },
 "nbformat": 4,
 "nbformat_minor": 5
}
